{
 "cells": [
  {
   "cell_type": "code",
   "execution_count": 35,
   "metadata": {},
   "outputs": [],
   "source": [
    "import numpy as np \n",
    "import pandas as pd \n",
    "import matplotlib.pyplot as plt \n",
    "pd.set_option('display.max_rows', 1000) \n",
    "from sklearn.model_selection import train_test_split\n",
    "from sklearn.tree import DecisionTreeClassifier\n",
    "from sklearn.tree import export_graphviz\n",
    "import warnings\n",
    "from sklearn.metrics import mean_absolute_error\n",
    "warnings.filterwarnings(\"ignore\")"
   ]
  },
  {
   "cell_type": "code",
   "execution_count": 23,
   "metadata": {},
   "outputs": [],
   "source": [
    "sperm_data = pd.read_csv(r\"all_features.csv\")\n",
    "sperm_data = sperm_data.replace(\"-\", np.nan)\n",
    "sperm_data = sperm_data.dropna()\n",
    "blas_rate = sperm_data[\"BLAST_D8\"].copy()\n",
    "blas_rate = pd.to_numeric(blas_rate)\n",
    "sperm_data = sperm_data.drop(columns=['BLAST_D8'])"
   ]
  },
  {
   "cell_type": "code",
   "execution_count": 28,
   "metadata": {},
   "outputs": [],
   "source": [
    "correlated_features = set()\n",
    "correlation_matrix = sperm_data.corr()\n",
    "for i in range(len(correlation_matrix.columns)):\n",
    "    for j in range(i):\n",
    "        if abs(correlation_matrix.iloc[i, j]) > 0.8:\n",
    "            colname = correlation_matrix.columns[i]\n",
    "            correlated_features.add(colname)\n",
    "sperm_data.drop(labels=correlated_features, axis=1, inplace=True)\n",
    "sperm_data = sperm_data.apply(pd.to_numeric)"
   ]
  },
  {
   "cell_type": "code",
   "execution_count": 29,
   "metadata": {},
   "outputs": [],
   "source": [
    "# FIVE DATASETS TO TEST ON\n",
    "# - all non-correlated features\n",
    "# - ss_cells\n",
    "# - ss_motility\n",
    "# - ss_pct\n",
    "# - pca (done on training set, then applied on testing)\n",
    "ss_cells = sperm_data[[\"AI\", \"PI\", \"ALTO\", \"FRAG_CRO\"]].copy()\n",
    "ss_motility = sperm_data[[\"VAP\", \"VCL\", \"ALH\", \"BCF\", \"STR\"]].copy()\n",
    "ss_pct = sperm_data[[\"MOTILE_PCT\", \"MEDIUM_PCT\", \"SLOW_PCT\", \"STATIC_PCT\"]].copy()"
   ]
  },
  {
   "cell_type": "code",
   "execution_count": 72,
   "metadata": {},
   "outputs": [],
   "source": [
    "def accuracy(correct, predicted, classes):\n",
    "    accuracy=[]\n",
    "    elements = []\n",
    "    for label in classes:\n",
    "        accuracy.append(100*np.mean([(x == y)  for x, y in zip(correct,predicted) if x==label]))  \n",
    "        elements.append(len([(x == y)  for x, y in zip(correct,predicted) if x==label]))\n",
    "    accuracy.append(100*np.mean([(x == y)  for x, y in zip(correct,predicted)] ) )\n",
    "    elements.append(len([(x == y)  for x, y in zip(correct,predicted)]))\n",
    "    accuracy = np.nan_to_num(accuracy) \n",
    "    elements = np.nan_to_num(elements)\n",
    "    return accuracy, elements\n",
    "\n",
    "def error_calculator(correct, predicted, base):\n",
    "    error = mean_absolute_error(output_test, predicted)\n",
    "    near_batches = np.zeros((1,5))\n",
    "    for i in range(5):\n",
    "        near_batches[:,i] = sum([(abs(x-y)/base == i + 1) for x, y in zip(correct, predicted)])\n",
    "    near_batches = 100*near_batches/len(predicted)\n",
    "    return error, near_batches\n",
    "    "
   ]
  },
  {
   "cell_type": "code",
   "execution_count": 100,
   "metadata": {},
   "outputs": [],
   "source": [
    "def split_and_classify_continuous(train_data, test_data, train_labels, test_labels, base, group_labels):\n",
    "    clf = DecisionTreeClassifier(min_samples_leaf = 6, criterion = \"entropy\")\n",
    "    tree_class = clf.fit(train_data, train_labels)\n",
    "    results = clf.predict(test_data)\n",
    "    acc, element_num = accuracy(test_labels, results, group_labels)\n",
    "    error, batches = error_calculator(test_labels, results, base)\n",
    "    return acc, element_num, error, batches"
   ]
  },
  {
   "cell_type": "code",
   "execution_count": 109,
   "metadata": {},
   "outputs": [],
   "source": [
    "def sandc_average_accuracy(data, labels, base, iterations):\n",
    "    group_labels = [n for n in range(1, 60) if n % base == 0]\n",
    "    group_labels.insert(0,0)\n",
    "    train, test, output_train, output_test = train_test_split(data, labels, test_size=0.20)\n",
    "    mean_acc, mean_elements, mean_error, mean_batches = split_and_classify_continuous(train, test, output_train, output_test, 10, group_labels)\n",
    "    for it in range(iterations-1):\n",
    "        train, test, output_train, output_test = train_test_split(data, labels, test_size=0.20)\n",
    "        new_acc, new_elements, new_error, new_batches = split_and_classify_continuous(train, test, output_train, output_test, 10, group_labels)\n",
    "        mean_acc, mean_elements, mean_error, mean_batches = mean_acc + new_acc, mean_elements + new_elements, mean_error + new_error, mean_batches + new_batches\n",
    "    mean_acc, mean_elements, mean_error, mean_batches =  mean_acc/iterations, mean_elements/iterations, mean_error/iterations, mean_batches/iterations\n",
    "    print(\"acc\", mean_acc[-1])\n",
    "    print(\"elements\", mean_elements[-1])\n",
    "    print(\"error\", mean_error)\n",
    "    print(\"batches\", mean_batches)\n",
    "    return mean_acc, mean_elements, mean_error, mean_batches"
   ]
  },
  {
   "cell_type": "code",
   "execution_count": 71,
   "metadata": {},
   "outputs": [
    {
     "name": "stdout",
     "output_type": "stream",
     "text": [
      "[[0.22413793 0.29310345 0.03448276 0.         0.        ]]\n"
     ]
    },
    {
     "data": {
      "text/plain": [
       "(array([ 0.        , 45.83333333, 44.44444444, 33.33333333, 57.14285714,\n",
       "         0.        , 44.82758621]), array([ 0, 24, 18,  9,  7,  0, 58]))"
      ]
     },
     "execution_count": 71,
     "metadata": {},
     "output_type": "execute_result"
    }
   ],
   "source": [
    "split_and_classify_continuous(train, test, output_train, output_test, 10)"
   ]
  },
  {
   "cell_type": "code",
   "execution_count": 111,
   "metadata": {},
   "outputs": [
    {
     "name": "stdout",
     "output_type": "stream",
     "text": [
      "ROUNDING TO  20\n",
      "acc 63.70689655172415\n",
      "elements 58.0\n",
      "error 12.965517241379313\n",
      "batches [[ 0.         28.44827586  0.          7.84482759  0.        ]]\n",
      "ROUNDING TO  10\n",
      "acc 51.29310344827587\n",
      "elements 58.0\n",
      "error 10.956896551724137\n",
      "batches [[25.25862069 17.5862069   5.43103448  0.43103448  0.        ]]\n",
      "ROUNDING TO  5\n",
      "acc 34.74137931034483\n",
      "elements 58.0\n",
      "error 11.159482758620687\n",
      "batches [[17.67241379  7.67241379  3.87931034  0.34482759  0.        ]]\n",
      "ROUNDING TO  1\n",
      "acc 14.310344827586206\n",
      "elements 58.0\n",
      "error 11.131896551724138\n",
      "batches [[4.56896552 1.46551724 0.60344828 0.         0.        ]]\n"
     ]
    }
   ],
   "source": [
    "round_bases = [20,10,5,1]\n",
    "for base in round_bases :\n",
    "    blasrate_base = base * round(blas_rate / base)\n",
    "    print(\"ROUNDING TO \", base)\n",
    "    sandc_average_accuracy(sperm_data, blasrate_base, base, 20)"
   ]
  },
  {
   "cell_type": "code",
   "execution_count": 106,
   "metadata": {},
   "outputs": [
    {
     "data": {
      "text/plain": [
       "[0, 20, 40]"
      ]
     },
     "execution_count": 106,
     "metadata": {},
     "output_type": "execute_result"
    }
   ],
   "source": [
    "\n",
    "test"
   ]
  },
  {
   "cell_type": "code",
   "execution_count": 90,
   "metadata": {},
   "outputs": [
    {
     "name": "stdout",
     "output_type": "stream",
     "text": [
      "[ 0. 10. 20. 30. 40. 50.]\n",
      "[ 0. 10. 20. 30. 40. 50.]\n",
      "[ 0. 10. 20. 30. 40. 50.]\n",
      "[ 0. 10. 20. 30. 40. 50.]\n",
      "[ 0. 10. 20. 30. 40. 50.]\n",
      "[ 0. 10. 20. 30. 40. 50.]\n",
      "[ 0. 10. 20. 30. 40. 50.]\n",
      "[ 0. 10. 20. 30. 40. 50.]\n",
      "[ 0. 10. 20. 30. 40. 50.]\n",
      "[ 0. 10. 20. 30. 40. 50.]\n",
      "[ 0. 10. 20. 30. 40. 50.]\n",
      "[ 0. 10. 20. 30. 40. 50.]\n",
      "[ 0. 10. 20. 30. 40. 50.]\n",
      "[ 0. 10. 20. 30. 40. 50.]\n",
      "[ 0. 10. 20. 30. 40. 50.]\n",
      "[ 0. 10. 20. 30. 40. 50.]\n",
      "[ 0. 10. 20. 30. 40. 50.]\n",
      "[ 0. 10. 20. 30. 40. 50.]\n",
      "[ 0. 10. 20. 30. 40. 50.]\n",
      "[ 0. 10. 20. 30. 40. 50.]\n",
      "acc [15.83333333 60.94243873 52.12991491 44.12232539 40.03986291  0.\n",
      " 49.39655172]\n",
      "elements [ 1.4  18.7  17.25 12.7   7.1   0.85 58.  ]\n",
      "error 11.21551724137931\n",
      "batches [[24.65517241 17.32758621  7.4137931   1.20689655  0.        ]]\n"
     ]
    },
    {
     "data": {
      "text/plain": [
       "(array([15.83333333, 60.94243873, 52.12991491, 44.12232539, 40.03986291,\n",
       "         0.        , 49.39655172]),\n",
       " array([ 1.4 , 18.7 , 17.25, 12.7 ,  7.1 ,  0.85, 58.  ]),\n",
       " 11.21551724137931,\n",
       " array([[24.65517241, 17.32758621,  7.4137931 ,  1.20689655,  0.        ]]))"
      ]
     },
     "execution_count": 90,
     "metadata": {},
     "output_type": "execute_result"
    }
   ],
   "source": [
    "sandc_average_accuracy(sperm_data, blasrate_10, 10, 20)"
   ]
  }
 ],
 "metadata": {
  "kernelspec": {
   "display_name": "Python 3",
   "language": "python",
   "name": "python3"
  },
  "language_info": {
   "codemirror_mode": {
    "name": "ipython",
    "version": 3
   },
   "file_extension": ".py",
   "mimetype": "text/x-python",
   "name": "python",
   "nbconvert_exporter": "python",
   "pygments_lexer": "ipython3",
   "version": "3.7.4"
  }
 },
 "nbformat": 4,
 "nbformat_minor": 2
}
