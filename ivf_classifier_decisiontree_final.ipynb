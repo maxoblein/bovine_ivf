{
 "cells": [
  {
   "cell_type": "code",
   "execution_count": 3,
   "metadata": {},
   "outputs": [],
   "source": [
    "import numpy as np \n",
    "import pandas as pd \n",
    "import matplotlib.pyplot as plt \n",
    "pd.set_option('display.max_rows', 1000) \n",
    "from sklearn.model_selection import train_test_split\n",
    "from sklearn.tree import DecisionTreeClassifier\n",
    "from sklearn.tree import export_graphviz\n",
    "import warnings\n",
    "from sklearn.metrics import mean_absolute_error\n",
    "from sklearn.decomposition import PCA\n",
    "warnings.filterwarnings(\"ignore\")"
   ]
  },
  {
   "cell_type": "code",
   "execution_count": 4,
   "metadata": {},
   "outputs": [],
   "source": [
    "sperm_data = pd.read_csv(r\"all_features.csv\")\n",
    "sperm_data = sperm_data.replace(\"-\", np.nan)\n",
    "sperm_data = sperm_data.dropna()\n",
    "blas_rate = sperm_data[\"BLAST_D8\"].copy()\n",
    "blas_rate = pd.to_numeric(blas_rate)\n",
    "sperm_data = sperm_data.drop(columns=['BLAST_D8'])"
   ]
  },
  {
   "cell_type": "code",
   "execution_count": 5,
   "metadata": {},
   "outputs": [],
   "source": [
    "correlated_features = set()\n",
    "correlation_matrix = sperm_data.corr()\n",
    "for i in range(len(correlation_matrix.columns)):\n",
    "    for j in range(i):\n",
    "        if abs(correlation_matrix.iloc[i, j]) > 0.8:\n",
    "            colname = correlation_matrix.columns[i]\n",
    "            correlated_features.add(colname)\n",
    "sperm_data.drop(labels=correlated_features, axis=1, inplace=True)\n",
    "sperm_data = sperm_data.apply(pd.to_numeric)"
   ]
  },
  {
   "cell_type": "code",
   "execution_count": 6,
   "metadata": {},
   "outputs": [],
   "source": [
    "# FIVE DATASETS TO TEST ON\n",
    "# - all non-correlated features\n",
    "# - ss_cells\n",
    "# - ss_motility\n",
    "# - ss_pct\n",
    "# - pca (done on training set, then applied on testing)\n",
    "ss_cells = sperm_data[[\"AI\", \"PI\", \"ALTO\", \"FRAG_CRO\"]].copy()\n",
    "ss_motility = sperm_data[[\"VAP\", \"VCL\", \"ALH\", \"BCF\", \"STR\"]].copy()\n",
    "ss_pct = sperm_data[[\"MOTILE_PCT\", \"MEDIUM_PCT\", \"SLOW_PCT\", \"STATIC_PCT\"]].copy()"
   ]
  },
  {
   "cell_type": "code",
   "execution_count": 20,
   "metadata": {},
   "outputs": [],
   "source": [
    "def accuracy(correct, predicted, classes):\n",
    "    accuracy=[]\n",
    "    elements = []\n",
    "    for label in classes:\n",
    "        accuracy.append(100*np.mean([(x == y)  for x, y in zip(correct,predicted) if x==label]))  \n",
    "        elements.append(len([(x == y)  for x, y in zip(correct,predicted) if x==label]))\n",
    "    accuracy.append(100*np.mean([(x == y)  for x, y in zip(correct,predicted)] ) )\n",
    "    elements.append(len([(x == y)  for x, y in zip(correct,predicted)]))\n",
    "    accuracy = np.nan_to_num(accuracy) \n",
    "    elements = np.nan_to_num(elements)\n",
    "    return accuracy, elements\n",
    "\n",
    "def error_calculator(correct, predicted, base):\n",
    "    error = mean_absolute_error(correct, predicted)\n",
    "    near_batches = np.zeros((1,20))\n",
    "    for i in range(20):\n",
    "        near_batches[:,i] = sum([(abs(x-y)/base == i + 1) for x, y in zip(correct, predicted)])\n",
    "    near_batches = 100*near_batches/len(predicted)\n",
    "    return error, near_batches\n",
    "    "
   ]
  },
  {
   "cell_type": "code",
   "execution_count": 8,
   "metadata": {},
   "outputs": [],
   "source": [
    "def split_and_classify_continuous(train_data, test_data, train_labels, test_labels, base, group_labels):\n",
    "    clf = DecisionTreeClassifier(min_samples_leaf = 6, criterion = \"entropy\")\n",
    "    tree_class = clf.fit(train_data, train_labels)\n",
    "    results = clf.predict(test_data)\n",
    "    acc, element_num = accuracy(test_labels, results, group_labels)\n",
    "    error, batches = error_calculator(test_labels, results, base)\n",
    "    return acc, element_num, error, batches"
   ]
  },
  {
   "cell_type": "code",
   "execution_count": 9,
   "metadata": {},
   "outputs": [],
   "source": [
    "def sandc_average_accuracy(data, labels, base, iterations, pca = False):\n",
    "    group_labels = [n for n in range(1, 60) if n % base == 0]\n",
    "    group_labels.insert(0,0)\n",
    "    train, test, output_train, output_test = train_test_split(data, labels, test_size=0.20)\n",
    "    if pca == True:\n",
    "        pca = PCA(n_components=5)\n",
    "        train = pca.fit_transform(train)\n",
    "        test = pca.transform(test)\n",
    "    mean_acc, mean_elements, mean_error, mean_batches = split_and_classify_continuous(train, test, output_train, output_test, 10, group_labels)\n",
    "    for it in range(iterations-1):\n",
    "        train, test, output_train, output_test = train_test_split(data, labels, test_size=0.20)\n",
    "        if pca == True:\n",
    "            pca = PCA(n_components=5)\n",
    "            train = pca.fit_transform(train)\n",
    "            test = pca.transform(test)\n",
    "        new_acc, new_elements, new_error, new_batches = split_and_classify_continuous(train, test, output_train, output_test, base, group_labels)\n",
    "        mean_acc, mean_elements, mean_error, mean_batches = mean_acc + new_acc, mean_elements + new_elements, mean_error + new_error, mean_batches + new_batches\n",
    "    mean_acc, mean_elements, mean_error, mean_batches =  mean_acc/iterations, mean_elements/iterations, mean_error/iterations, mean_batches/iterations\n",
    "    print(\"acc\", mean_acc[-1])\n",
    "    print(\"elements\", mean_elements)\n",
    "    print(\"error\", mean_error)\n",
    "    print(\"batches\", mean_batches)\n",
    "    return mean_acc, mean_elements, mean_error, mean_batches"
   ]
  },
  {
   "cell_type": "code",
   "execution_count": 71,
   "metadata": {},
   "outputs": [
    {
     "name": "stdout",
     "output_type": "stream",
     "text": [
      "[[0.22413793 0.29310345 0.03448276 0.         0.        ]]\n"
     ]
    },
    {
     "data": {
      "text/plain": [
       "(array([ 0.        , 45.83333333, 44.44444444, 33.33333333, 57.14285714,\n",
       "         0.        , 44.82758621]), array([ 0, 24, 18,  9,  7,  0, 58]))"
      ]
     },
     "execution_count": 71,
     "metadata": {},
     "output_type": "execute_result"
    }
   ],
   "source": [
    "split_and_classify_continuous(train, test, output_train, output_test, 10)"
   ]
  },
  {
   "cell_type": "code",
   "execution_count": 21,
   "metadata": {
    "scrolled": true
   },
   "outputs": [
    {
     "name": "stdout",
     "output_type": "stream",
     "text": [
      "ROUNDING TO  20\n",
      "acc 62.67241379310343\n",
      "elements [10.2  32.65 14.7  58.  ]\n",
      "error 8.60344827586207\n",
      "batches [[29.9137931   7.24137931  0.0862069   0.0862069   0.          0.\n",
      "   0.          0.          0.          0.          0.          0.\n",
      "   0.          0.          0.          0.          0.          0.\n",
      "   0.          0.        ]]\n",
      "ROUNDING TO  10\n",
      "acc 50.689655172413794\n",
      "elements [ 2.35 16.55 17.15 14.3   6.7   0.95 58.  ]\n",
      "error 8.344827586206897\n",
      "batches [[23.36206897 18.53448276  6.72413793  0.60344828  0.0862069   0.\n",
      "   0.          0.          0.          0.          0.          0.\n",
      "   0.          0.          0.          0.          0.          0.\n",
      "   0.          0.        ]]\n",
      "ROUNDING TO  5\n",
      "acc 34.39655172413792\n",
      "elements [ 0.75  6.05 10.2   7.8   6.9   9.65  6.55  4.65  2.9   1.95  0.4   0.2\n",
      " 58.  ]\n",
      "error 9.581896551724139\n",
      "batches [[18.18965517 13.87931034 10.34482759  7.84482759  6.46551724  4.31034483\n",
      "   2.06896552  0.25862069  0.25862069  0.0862069   0.          0.\n",
      "   0.          0.          0.          0.          0.          0.\n",
      "   0.          0.        ]]\n",
      "ROUNDING TO  1\n",
      "acc 14.482758620689657\n",
      "elements [ 0.15  0.2   0.35  0.2   0.95  0.65  1.5   2.7   0.15  2.45  3.4   1.8\n",
      "  1.35  1.65  1.85  2.2   2.55  1.15  2.25  1.4   1.95  0.7   0.9   1.5\n",
      "  2.1   2.9   1.2   1.75  0.7   0.8   1.    1.1   2.2   0.9   0.95  1.55\n",
      "  0.35  1.1   1.    1.05  0.    0.2   1.3   0.75  0.55  0.    0.1   0.\n",
      "  0.1   0.    0.    0.    0.1   0.    0.3   0.    0.    0.    0.    0.\n",
      " 58.  ]\n",
      "error 10.778448275862072\n",
      "batches [[3.53448276 5.60344828 4.22413793 4.39655172 4.9137931  2.67241379\n",
      "  5.25862069 3.53448276 2.93103448 4.05172414 3.79310345 3.36206897\n",
      "  2.24137931 2.4137931  1.63793103 2.93103448 2.5862069  1.55172414\n",
      "  1.89655172 1.37931034]]\n"
     ]
    }
   ],
   "source": [
    "round_bases = [20,10,5,1]\n",
    "for base in round_bases :\n",
    "    blasrate_base = base * round(blas_rate / base)\n",
    "    print(\"ROUNDING TO \", base)\n",
    "    sandc_average_accuracy(sperm_data, blasrate_base, base, 20)"
   ]
  },
  {
   "cell_type": "code",
   "execution_count": null,
   "metadata": {},
   "outputs": [],
   "source": [
    "def plot_accuracy(dataset_names, dataset_labels, output_labels, rounding_levels):\n",
    "    fig, ax2 = plt.subplots(1,1, figsize=(15,7))\n",
    "    ax = ax2.twinx()\n",
    "    item = 0\n",
    "    x = np.arange(len(dataset_labels))\n",
    "    width = 0.20\n",
    "    width2 = 0.15\n",
    "    \n",
    "    def autolabel(bar, ax_name):\n",
    "    #Attach a text label above each bar in *rects*, displaying its height.\n",
    "        for rect in bar:\n",
    "            height = rect.get_height()\n",
    "            ax_name.annotate('{}'.format(round(height,1)),\n",
    "                        xy=(rect.get_x() + rect.get_width() / 2, height),\n",
    "                        xytext=(0, -17),  # 3 points vertical offset\n",
    "                        textcoords=\"offset points\",\n",
    "                        ha='center', va='bottom', fontsize = 15)\n",
    "  \n",
    "    for base, loc in zip(rounding_levels, [x-1.5*width, x-0.5*width, x+0.5*width, x+1.5*width]):\n",
    "        blasrate_base = base * round(output_labels / base)\n",
    "        total_acc = [0]\n",
    "        total_error = [0]\n",
    "        for subset in dataset_names:\n",
    "            print(\"ROUNDING TO \", base)\n",
    "            mean_acc, mean_elements, mean_error, mean_batches = sandc_average_accuracy(eval(subset), blasrate_base, base, 20)    \n",
    "            total_acc = np.hstack((total_acc, mean_acc[-1]))\n",
    "            total_error = np.hstack((total_error, mean_error))\n",
    "           \n",
    "        print(total_acc)\n",
    "        barErr = ax2.bar(loc, total_error[1:], width2, color = \"silver\", label = \"Mean Error when rounding to {}\".format(base))\n",
    "        barAcc = ax.bar(loc, total_acc[1:], width, label = \"Accuracy rounding to nearest {}\".format(base))\n",
    "        autolabel(barErr, ax2)\n",
    "        autolabel(barAcc, ax)\n",
    "        \n",
    "    ax.set_xticks(x)\n",
    "    ax.set_xticklabels(dataset_labels, fontsize = 14)\n",
    "    ax.legend(loc = 'lower left', fontsize = 14, bbox_to_anchor=(0,-0.2), ncol =2)\n",
    "    ax.set_title(\"Accuracy and Mean error (%) when rounding to intervals\", fontsize = 20)   \n",
    "    plt.show()\n"
   ]
  },
  {
   "cell_type": "code",
   "execution_count": 180,
   "metadata": {
    "collapsed": true
   },
   "outputs": [
    {
     "name": "stdout",
     "output_type": "stream",
     "text": [
      "ROUNDING TO  20\n",
      "acc 61.03448275862068\n",
      "elements [11.5  31.95 14.35 58.  ]\n",
      "error 13.137931034482758\n",
      "batches [[30.51724138  8.01724138  0.          0.43103448  0.        ]]\n",
      "ROUNDING TO  20\n",
      "acc 54.39655172413793\n",
      "elements [11.75 32.4  13.55 58.  ]\n",
      "error 13.137931034482762\n",
      "batches [[35.43103448  9.74137931  0.          0.43103448  0.        ]]\n",
      "ROUNDING TO  20\n",
      "acc 55.517241379310335\n",
      "elements [11.3  31.35 15.   58.  ]\n",
      "error 13.120689655172416\n",
      "batches [[36.12068966  7.84482759  0.0862069   0.43103448  0.        ]]\n",
      "ROUNDING TO  20\n",
      "acc 56.72413793103448\n",
      "elements [ 9.9 33.7 14.2 58. ]\n",
      "error 13.258620689655174\n",
      "batches [[35.68965517  7.32758621  0.          0.25862069  0.        ]]\n",
      "[ 0.         61.03448276 54.39655172 55.51724138 56.72413793]\n",
      "ROUNDING TO  10\n",
      "acc 50.60344827586206\n",
      "elements [ 1.9  17.3  17.65 14.3   6.    0.85 58.  ]\n",
      "error 11.103448275862068\n",
      "batches [[25.43103448 17.06896552  5.77586207  1.03448276  0.0862069 ]]\n",
      "ROUNDING TO  10\n",
      "acc 43.27586206896552\n",
      "elements [ 2.   17.6  18.8  12.2   6.85  0.55 58.  ]\n",
      "error 11.051724137931036\n",
      "batches [[27.4137931  19.48275862  8.70689655  1.12068966  0.        ]]\n",
      "ROUNDING TO  10\n",
      "acc 48.36206896551725\n",
      "elements [ 2.4  18.7  16.4  13.55  6.3   0.65 58.  ]\n",
      "error 10.500000000000002\n",
      "batches [[28.70689655 15.77586207  6.46551724  0.68965517  0.        ]]\n",
      "ROUNDING TO  10\n",
      "acc 39.741379310344826\n",
      "elements [ 2.1  17.25 18.1  13.15  6.85  0.55 58.  ]\n",
      "error 10.982758620689655\n",
      "batches [[30.68965517 20.34482759  8.70689655  0.51724138  0.        ]]\n",
      "[ 0.         50.60344828 43.27586207 48.36206897 39.74137931]\n",
      "ROUNDING TO  5\n",
      "acc 33.87931034482759\n",
      "elements [ 0.5   5.7   8.7   8.95  7.05  9.4   6.45  5.15  3.7   1.95  0.35  0.1\n",
      " 58.  ]\n",
      "error 11.642241379310343\n",
      "batches [[17.4137931  14.9137931   9.05172414  9.39655172  5.68965517]]\n",
      "ROUNDING TO  5\n",
      "acc 30.344827586206897\n",
      "elements [ 0.6   5.25  8.5   9.35  7.2  10.    5.9   5.5   3.7   1.3   0.45  0.25\n",
      " 58.  ]\n",
      "error 11.064655172413792\n",
      "batches [[16.81034483 18.96551724 11.63793103 11.46551724  4.05172414]]\n",
      "ROUNDING TO  5\n",
      "acc 30.344827586206897\n",
      "elements [ 1.    5.4  10.2   9.15  6.7   9.75  6.1   3.75  3.35  1.9   0.55  0.15\n",
      " 58.  ]\n",
      "error 11.840517241379311\n",
      "batches [[23.01724138 16.37931034 10.43103448  5.94827586  6.20689655]]\n",
      "ROUNDING TO  5\n",
      "acc 27.586206896551726\n",
      "elements [ 0.75  5.9   8.2   8.25  7.75 10.65  7.05  4.35  3.25  1.3   0.4   0.15\n",
      " 58.  ]\n",
      "error 11.150862068965514\n",
      "batches [[18.18965517 17.67241379 14.65517241  8.87931034  4.74137931]]\n",
      "[ 0.         33.87931034 30.34482759 30.34482759 27.5862069 ]\n",
      "ROUNDING TO  1\n",
      "acc 15.172413793103448\n",
      "elements [ 0.4   0.15  0.1   0.1   0.9   0.75  1.    2.3   0.5   2.75  3.2   1.65\n",
      "  1.65  1.4   0.9   1.95  2.2   1.5   2.5   1.55  1.65  0.5   1.15  1.3\n",
      "  3.05  3.3   1.1   2.2   0.55  1.    1.3   1.05  1.45  0.55  1.7   1.8\n",
      "  0.45  0.9   0.9   1.65  0.    0.15  1.05  0.45  0.65  0.    0.15  0.\n",
      "  0.1   0.    0.    0.    0.15  0.    0.3   0.    0.    0.    0.    0.\n",
      " 58.  ]\n",
      "error 11.56206896551724\n",
      "batches [[5.51724138 5.17241379 2.84482759 4.31034483 4.48275862]]\n",
      "ROUNDING TO  1\n",
      "acc 10.603448275862068\n",
      "elements [ 0.15  0.4   0.3   0.25  1.05  0.7   1.35  2.    0.25  2.75  2.9   1.4\n",
      "  1.25  2.2   2.    1.85  2.05  1.25  2.5   1.5   1.8   0.8   1.4   1.2\n",
      "  1.8   3.5   1.3   1.95  0.65  0.55  1.35  1.2   2.35  0.5   1.15  1.65\n",
      "  0.4   1.25  0.9   1.25  0.    0.1   1.15  0.5   0.7   0.    0.15  0.\n",
      "  0.1   0.    0.    0.    0.15  0.    0.1   0.    0.    0.    0.    0.\n",
      " 58.  ]\n",
      "error 11.144827586206898\n",
      "batches [[4.05172414 4.9137931  5.34482759 4.56896552 4.65517241]]\n",
      "ROUNDING TO  1\n",
      "acc 11.637931034482758\n",
      "elements [ 0.35  0.1   0.15  0.25  0.65  0.8   1.2   2.55  0.55  2.2   3.05  2.2\n",
      "  1.15  1.8   1.6   1.65  1.9   1.05  1.75  1.8   1.55  0.7   1.    1.05\n",
      "  2.3   4.15  1.2   2.35  0.5   0.65  1.55  1.    2.6   0.85  1.    1.25\n",
      "  0.6   0.95  0.8   1.2   0.    0.2   1.15  0.6   1.2   0.    0.25  0.\n",
      "  0.1   0.    0.    0.    0.3   0.    0.2   0.    0.    0.    0.    0.\n",
      " 58.  ]\n",
      "error 11.405172413793105\n",
      "batches [[4.31034483 4.65517241 6.12068966 4.56896552 3.27586207]]\n",
      "ROUNDING TO  1\n",
      "acc 9.568965517241379\n",
      "elements [ 0.1   0.4   0.2   0.15  0.95  1.15  1.3   2.5   0.2   2.55  3.5   1.8\n",
      "  1.45  2.    1.3   1.65  2.2   1.3   2.25  1.2   1.95  0.65  0.85  0.95\n",
      "  3.25  3.05  0.7   2.2   0.55  0.65  1.5   1.1   2.    0.55  1.3   1.35\n",
      "  0.25  1.25  0.95  1.1   0.    0.2   1.35  0.65  1.    0.    0.1   0.\n",
      "  0.1   0.    0.    0.    0.1   0.    0.2   0.    0.    0.    0.    0.\n",
      " 58.  ]\n",
      "error 11.569827586206895\n",
      "batches [[3.87931034 4.65517241 4.31034483 3.01724138 5.0862069 ]]\n",
      "[ 0.         15.17241379 10.60344828 11.63793103  9.56896552]\n"
     ]
    },
    {
     "data": {
      "image/png": "[encoded data removed]",
      "text/plain": [
       "<Figure size 1080x504 with 2 Axes>"
      ]
     },
     "metadata": {
      "needs_background": "light"
     },
     "output_type": "display_data"
    }
   ],
   "source": [
    "plot_accuracy([\"sperm_data\", \"ss_cells\", \"ss_motility\", \"ss_pct\"], [\"general\", \"A\", \"B\", \"C\"], blas_rate, [20,10,5,1])"
   ]
  },
  {
   "cell_type": "code",
   "execution_count": 12,
   "metadata": {},
   "outputs": [],
   "source": [
    "def plot_accuracy_with_pca(dataset, output_labels, rounding_levels):\n",
    "    fig, ax2 = plt.subplots(1,1, figsize=(15,7))\n",
    "    ax = ax2.twinx()\n",
    "    item = 0\n",
    "    x = np.arange(2)\n",
    "    width = 0.20\n",
    "    width2 = 0.15\n",
    "    \n",
    "    def autolabel(bar, ax_name):\n",
    "    #Attach a text label above each bar in *rects*, displaying its height.\n",
    "        for rect in bar:\n",
    "            height = rect.get_height()\n",
    "            ax_name.annotate('{}'.format(round(height,1)),\n",
    "                        xy=(rect.get_x() + rect.get_width() / 2, height),\n",
    "                        xytext=(0, -17),  # 3 points vertical offset\n",
    "                        textcoords=\"offset points\",\n",
    "                        ha='center', va='bottom', fontsize = 15)\n",
    "  \n",
    "    for base, loc in zip(rounding_levels, [x-1.5*width, x-0.5*width, x+0.5*width, x+1.5*width]):\n",
    "        print(\"rounding to\", base)\n",
    "        blasrate_base = base * round(output_labels / base)\n",
    "        acc_A, elements_A, error_A, batches_A = sandc_average_accuracy(dataset, blasrate_base, base, 20)   \n",
    "        acc_B, elements_B, error_B, batches_B = sandc_average_accuracy(dataset, blasrate_base, base, 20, pca = True)\n",
    "        total_acc = np.hstack((acc_A[-1], acc_B[-1]))\n",
    "        total_error = np.hstack((error_A, error_B))\n",
    "           \n",
    "        print(total_acc)\n",
    "        barErr = ax2.bar(loc, total_error, width2, color = \"silver\", label = \"Mean Error when rounding to {}\".format(base))\n",
    "        barAcc = ax.bar(loc, total_acc, width, label = \"Accuracy rounding to nearest {}\".format(base))\n",
    "        autolabel(barErr, ax2)\n",
    "        autolabel(barAcc, ax)\n",
    "        \n",
    "    ax.set_xticks(x)\n",
    "    ax.set_xticklabels([\"Full dataset after processing\", \"PCA of dataset\"], fontsize = 14)\n",
    "    ax.legend(loc = 'lower left', fontsize = 14, bbox_to_anchor=(0,-0.2), ncol =2)\n",
    "    ax.set_title(\"Accuracy and Mean error (%) when rounding to intervals\", fontsize = 20)   \n",
    "    plt.show()\n"
   ]
  },
  {
   "cell_type": "code",
   "execution_count": 13,
   "metadata": {
    "scrolled": true
   },
   "outputs": [
    {
     "name": "stdout",
     "output_type": "stream",
     "text": [
      "rounding to 20\n"
     ]
    },
    {
     "ename": "NameError",
     "evalue": "name 'output_test' is not defined",
     "output_type": "error",
     "traceback": [
      "\u001b[1;31m---------------------------------------------------------------------------\u001b[0m",
      "\u001b[1;31mNameError\u001b[0m                                 Traceback (most recent call last)",
      "\u001b[1;32m<ipython-input-13-d63874dc4fc1>\u001b[0m in \u001b[0;36m<module>\u001b[1;34m\u001b[0m\n\u001b[1;32m----> 1\u001b[1;33m \u001b[0mplot_accuracy_with_pca\u001b[0m\u001b[1;33m(\u001b[0m\u001b[0msperm_data\u001b[0m\u001b[1;33m,\u001b[0m \u001b[0mblas_rate\u001b[0m\u001b[1;33m,\u001b[0m \u001b[1;33m[\u001b[0m\u001b[1;36m20\u001b[0m\u001b[1;33m,\u001b[0m\u001b[1;36m10\u001b[0m\u001b[1;33m,\u001b[0m\u001b[1;36m5\u001b[0m\u001b[1;33m,\u001b[0m\u001b[1;36m1\u001b[0m\u001b[1;33m]\u001b[0m\u001b[1;33m)\u001b[0m\u001b[1;33m\u001b[0m\u001b[1;33m\u001b[0m\u001b[0m\n\u001b[0m",
      "\u001b[1;32m<ipython-input-12-e9daf32775e7>\u001b[0m in \u001b[0;36mplot_accuracy_with_pca\u001b[1;34m(dataset, output_labels, rounding_levels)\u001b[0m\n\u001b[0;32m     20\u001b[0m         \u001b[0mprint\u001b[0m\u001b[1;33m(\u001b[0m\u001b[1;34m\"rounding to\"\u001b[0m\u001b[1;33m,\u001b[0m \u001b[0mbase\u001b[0m\u001b[1;33m)\u001b[0m\u001b[1;33m\u001b[0m\u001b[1;33m\u001b[0m\u001b[0m\n\u001b[0;32m     21\u001b[0m         \u001b[0mblasrate_base\u001b[0m \u001b[1;33m=\u001b[0m \u001b[0mbase\u001b[0m \u001b[1;33m*\u001b[0m \u001b[0mround\u001b[0m\u001b[1;33m(\u001b[0m\u001b[0moutput_labels\u001b[0m \u001b[1;33m/\u001b[0m \u001b[0mbase\u001b[0m\u001b[1;33m)\u001b[0m\u001b[1;33m\u001b[0m\u001b[1;33m\u001b[0m\u001b[0m\n\u001b[1;32m---> 22\u001b[1;33m         \u001b[0macc_A\u001b[0m\u001b[1;33m,\u001b[0m \u001b[0melements_A\u001b[0m\u001b[1;33m,\u001b[0m \u001b[0merror_A\u001b[0m\u001b[1;33m,\u001b[0m \u001b[0mbatches_A\u001b[0m \u001b[1;33m=\u001b[0m \u001b[0msandc_average_accuracy\u001b[0m\u001b[1;33m(\u001b[0m\u001b[0mdataset\u001b[0m\u001b[1;33m,\u001b[0m \u001b[0mblasrate_base\u001b[0m\u001b[1;33m,\u001b[0m \u001b[0mbase\u001b[0m\u001b[1;33m,\u001b[0m \u001b[1;36m20\u001b[0m\u001b[1;33m)\u001b[0m\u001b[1;33m\u001b[0m\u001b[1;33m\u001b[0m\u001b[0m\n\u001b[0m\u001b[0;32m     23\u001b[0m         \u001b[0macc_B\u001b[0m\u001b[1;33m,\u001b[0m \u001b[0melements_B\u001b[0m\u001b[1;33m,\u001b[0m \u001b[0merror_B\u001b[0m\u001b[1;33m,\u001b[0m \u001b[0mbatches_B\u001b[0m \u001b[1;33m=\u001b[0m \u001b[0msandc_average_accuracy\u001b[0m\u001b[1;33m(\u001b[0m\u001b[0mdataset\u001b[0m\u001b[1;33m,\u001b[0m \u001b[0mblasrate_base\u001b[0m\u001b[1;33m,\u001b[0m \u001b[0mbase\u001b[0m\u001b[1;33m,\u001b[0m \u001b[1;36m20\u001b[0m\u001b[1;33m,\u001b[0m \u001b[0mpca\u001b[0m \u001b[1;33m=\u001b[0m \u001b[1;32mTrue\u001b[0m\u001b[1;33m)\u001b[0m\u001b[1;33m\u001b[0m\u001b[1;33m\u001b[0m\u001b[0m\n\u001b[0;32m     24\u001b[0m         \u001b[0mtotal_acc\u001b[0m \u001b[1;33m=\u001b[0m \u001b[0mnp\u001b[0m\u001b[1;33m.\u001b[0m\u001b[0mhstack\u001b[0m\u001b[1;33m(\u001b[0m\u001b[1;33m(\u001b[0m\u001b[0macc_A\u001b[0m\u001b[1;33m[\u001b[0m\u001b[1;33m-\u001b[0m\u001b[1;36m1\u001b[0m\u001b[1;33m]\u001b[0m\u001b[1;33m,\u001b[0m \u001b[0macc_B\u001b[0m\u001b[1;33m[\u001b[0m\u001b[1;33m-\u001b[0m\u001b[1;36m1\u001b[0m\u001b[1;33m]\u001b[0m\u001b[1;33m)\u001b[0m\u001b[1;33m)\u001b[0m\u001b[1;33m\u001b[0m\u001b[1;33m\u001b[0m\u001b[0m\n",
      "\u001b[1;32m<ipython-input-9-3ed093bff5ec>\u001b[0m in \u001b[0;36msandc_average_accuracy\u001b[1;34m(data, labels, base, iterations, pca)\u001b[0m\n\u001b[0;32m      7\u001b[0m         \u001b[0mtrain\u001b[0m \u001b[1;33m=\u001b[0m \u001b[0mpca\u001b[0m\u001b[1;33m.\u001b[0m\u001b[0mfit_transform\u001b[0m\u001b[1;33m(\u001b[0m\u001b[0mtrain\u001b[0m\u001b[1;33m)\u001b[0m\u001b[1;33m\u001b[0m\u001b[1;33m\u001b[0m\u001b[0m\n\u001b[0;32m      8\u001b[0m         \u001b[0mtest\u001b[0m \u001b[1;33m=\u001b[0m \u001b[0mpca\u001b[0m\u001b[1;33m.\u001b[0m\u001b[0mtransform\u001b[0m\u001b[1;33m(\u001b[0m\u001b[0mtest\u001b[0m\u001b[1;33m)\u001b[0m\u001b[1;33m\u001b[0m\u001b[1;33m\u001b[0m\u001b[0m\n\u001b[1;32m----> 9\u001b[1;33m     \u001b[0mmean_acc\u001b[0m\u001b[1;33m,\u001b[0m \u001b[0mmean_elements\u001b[0m\u001b[1;33m,\u001b[0m \u001b[0mmean_error\u001b[0m\u001b[1;33m,\u001b[0m \u001b[0mmean_batches\u001b[0m \u001b[1;33m=\u001b[0m \u001b[0msplit_and_classify_continuous\u001b[0m\u001b[1;33m(\u001b[0m\u001b[0mtrain\u001b[0m\u001b[1;33m,\u001b[0m \u001b[0mtest\u001b[0m\u001b[1;33m,\u001b[0m \u001b[0moutput_train\u001b[0m\u001b[1;33m,\u001b[0m \u001b[0moutput_test\u001b[0m\u001b[1;33m,\u001b[0m \u001b[1;36m10\u001b[0m\u001b[1;33m,\u001b[0m \u001b[0mgroup_labels\u001b[0m\u001b[1;33m)\u001b[0m\u001b[1;33m\u001b[0m\u001b[1;33m\u001b[0m\u001b[0m\n\u001b[0m\u001b[0;32m     10\u001b[0m     \u001b[1;32mfor\u001b[0m \u001b[0mit\u001b[0m \u001b[1;32min\u001b[0m \u001b[0mrange\u001b[0m\u001b[1;33m(\u001b[0m\u001b[0miterations\u001b[0m\u001b[1;33m-\u001b[0m\u001b[1;36m1\u001b[0m\u001b[1;33m)\u001b[0m\u001b[1;33m:\u001b[0m\u001b[1;33m\u001b[0m\u001b[1;33m\u001b[0m\u001b[0m\n\u001b[0;32m     11\u001b[0m         \u001b[0mtrain\u001b[0m\u001b[1;33m,\u001b[0m \u001b[0mtest\u001b[0m\u001b[1;33m,\u001b[0m \u001b[0moutput_train\u001b[0m\u001b[1;33m,\u001b[0m \u001b[0moutput_test\u001b[0m \u001b[1;33m=\u001b[0m \u001b[0mtrain_test_split\u001b[0m\u001b[1;33m(\u001b[0m\u001b[0mdata\u001b[0m\u001b[1;33m,\u001b[0m \u001b[0mlabels\u001b[0m\u001b[1;33m,\u001b[0m \u001b[0mtest_size\u001b[0m\u001b[1;33m=\u001b[0m\u001b[1;36m0.20\u001b[0m\u001b[1;33m)\u001b[0m\u001b[1;33m\u001b[0m\u001b[1;33m\u001b[0m\u001b[0m\n",
      "\u001b[1;32m<ipython-input-8-953b4d382f9e>\u001b[0m in \u001b[0;36msplit_and_classify_continuous\u001b[1;34m(train_data, test_data, train_labels, test_labels, base, group_labels)\u001b[0m\n\u001b[0;32m      4\u001b[0m     \u001b[0mresults\u001b[0m \u001b[1;33m=\u001b[0m \u001b[0mclf\u001b[0m\u001b[1;33m.\u001b[0m\u001b[0mpredict\u001b[0m\u001b[1;33m(\u001b[0m\u001b[0mtest_data\u001b[0m\u001b[1;33m)\u001b[0m\u001b[1;33m\u001b[0m\u001b[1;33m\u001b[0m\u001b[0m\n\u001b[0;32m      5\u001b[0m     \u001b[0macc\u001b[0m\u001b[1;33m,\u001b[0m \u001b[0melement_num\u001b[0m \u001b[1;33m=\u001b[0m \u001b[0maccuracy\u001b[0m\u001b[1;33m(\u001b[0m\u001b[0mtest_labels\u001b[0m\u001b[1;33m,\u001b[0m \u001b[0mresults\u001b[0m\u001b[1;33m,\u001b[0m \u001b[0mgroup_labels\u001b[0m\u001b[1;33m)\u001b[0m\u001b[1;33m\u001b[0m\u001b[1;33m\u001b[0m\u001b[0m\n\u001b[1;32m----> 6\u001b[1;33m     \u001b[0merror\u001b[0m\u001b[1;33m,\u001b[0m \u001b[0mbatches\u001b[0m \u001b[1;33m=\u001b[0m \u001b[0merror_calculator\u001b[0m\u001b[1;33m(\u001b[0m\u001b[0mtest_labels\u001b[0m\u001b[1;33m,\u001b[0m \u001b[0mresults\u001b[0m\u001b[1;33m,\u001b[0m \u001b[0mbase\u001b[0m\u001b[1;33m)\u001b[0m\u001b[1;33m\u001b[0m\u001b[1;33m\u001b[0m\u001b[0m\n\u001b[0m\u001b[0;32m      7\u001b[0m     \u001b[1;32mreturn\u001b[0m \u001b[0macc\u001b[0m\u001b[1;33m,\u001b[0m \u001b[0melement_num\u001b[0m\u001b[1;33m,\u001b[0m \u001b[0merror\u001b[0m\u001b[1;33m,\u001b[0m \u001b[0mbatches\u001b[0m\u001b[1;33m\u001b[0m\u001b[1;33m\u001b[0m\u001b[0m\n",
      "\u001b[1;32m<ipython-input-7-5939dc4fafeb>\u001b[0m in \u001b[0;36merror_calculator\u001b[1;34m(correct, predicted, base)\u001b[0m\n\u001b[0;32m     12\u001b[0m \u001b[1;33m\u001b[0m\u001b[0m\n\u001b[0;32m     13\u001b[0m \u001b[1;32mdef\u001b[0m \u001b[0merror_calculator\u001b[0m\u001b[1;33m(\u001b[0m\u001b[0mcorrect\u001b[0m\u001b[1;33m,\u001b[0m \u001b[0mpredicted\u001b[0m\u001b[1;33m,\u001b[0m \u001b[0mbase\u001b[0m\u001b[1;33m)\u001b[0m\u001b[1;33m:\u001b[0m\u001b[1;33m\u001b[0m\u001b[1;33m\u001b[0m\u001b[0m\n\u001b[1;32m---> 14\u001b[1;33m     \u001b[0merror\u001b[0m \u001b[1;33m=\u001b[0m \u001b[0mmean_absolute_error\u001b[0m\u001b[1;33m(\u001b[0m\u001b[0moutput_test\u001b[0m\u001b[1;33m,\u001b[0m \u001b[0mpredicted\u001b[0m\u001b[1;33m)\u001b[0m\u001b[1;33m\u001b[0m\u001b[1;33m\u001b[0m\u001b[0m\n\u001b[0m\u001b[0;32m     15\u001b[0m     \u001b[0mnear_batches\u001b[0m \u001b[1;33m=\u001b[0m \u001b[0mnp\u001b[0m\u001b[1;33m.\u001b[0m\u001b[0mzeros\u001b[0m\u001b[1;33m(\u001b[0m\u001b[1;33m(\u001b[0m\u001b[1;36m1\u001b[0m\u001b[1;33m,\u001b[0m\u001b[1;36m5\u001b[0m\u001b[1;33m)\u001b[0m\u001b[1;33m)\u001b[0m\u001b[1;33m\u001b[0m\u001b[1;33m\u001b[0m\u001b[0m\n\u001b[0;32m     16\u001b[0m     \u001b[1;32mfor\u001b[0m \u001b[0mi\u001b[0m \u001b[1;32min\u001b[0m \u001b[0mrange\u001b[0m\u001b[1;33m(\u001b[0m\u001b[1;36m5\u001b[0m\u001b[1;33m)\u001b[0m\u001b[1;33m:\u001b[0m\u001b[1;33m\u001b[0m\u001b[1;33m\u001b[0m\u001b[0m\n",
      "\u001b[1;31mNameError\u001b[0m: name 'output_test' is not defined"
     ]
    },
    {
     "data": {
      "image/png": "[encoded data removed]",
      "text/plain": [
       "<Figure size 1080x504 with 2 Axes>"
      ]
     },
     "metadata": {
      "needs_background": "light"
     },
     "output_type": "display_data"
    }
   ],
   "source": [
    "plot_accuracy_with_pca(sperm_data, blas_rate, [20,10,5,1])"
   ]
  }
 ],
 "metadata": {
  "kernelspec": {
   "display_name": "Python 3",
   "language": "python",
   "name": "python3"
  },
  "language_info": {
   "codemirror_mode": {
    "name": "ipython",
    "version": 3
   },
   "file_extension": ".py",
   "mimetype": "text/x-python",
   "name": "python",
   "nbconvert_exporter": "python",
   "pygments_lexer": "ipython3",
   "version": "3.7.4"
  }
 },
 "nbformat": 4,
 "nbformat_minor": 2
}
